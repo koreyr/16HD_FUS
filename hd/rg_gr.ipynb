{
 "cells": [
  {
   "cell_type": "code",
   "execution_count": 2,
   "id": "84bdf78e",
   "metadata": {},
   "outputs": [],
   "source": [
    "import numpy as np \n",
    "import matplotlib.pyplot as plt\n",
    "import pandas as pd\n",
    "import mdtraj as md"
   ]
  },
  {
   "cell_type": "code",
   "execution_count": 14,
   "id": "0bf46974",
   "metadata": {},
   "outputs": [],
   "source": [
    "traj25 = md.iterload('../../hd/0.025M/6_prod.xtc',top='../../hd/0.025M/6_prod.gro',chunk=100)\n",
    "traj25top = md.load('../../hd/0.025M/6_prod.gro').top"
   ]
  },
  {
   "cell_type": "code",
   "execution_count": 4,
   "id": "1f5e4aeb",
   "metadata": {},
   "outputs": [],
   "source": [
    "traj50 = md.iterload('../../hd/0.05M/6_prod.xtc',top='../../hd/0.05M/6_prod.gro')"
   ]
  },
  {
   "cell_type": "code",
   "execution_count": 6,
   "id": "6c4b5909",
   "metadata": {},
   "outputs": [],
   "source": [
    "traj75 = md.iterload('../../hd/0.075M/6_prod.cat.xtc',top='../../hd/0.075M/6_prod.part0003.gro')"
   ]
  },
  {
   "cell_type": "code",
   "execution_count": 7,
   "id": "d8da0bf5",
   "metadata": {},
   "outputs": [],
   "source": [
    "traj1 = md.iterload('../../hd/0.1M/6_prod.xtc',top='../../hd/0.1M/6_prod.gro')"
   ]
  },
  {
   "cell_type": "code",
   "execution_count": 17,
   "id": "5d1603f9",
   "metadata": {},
   "outputs": [],
   "source": [
    "oxygen_pairs25 = traj25top.select_pairs(\"name O\", \"name O1\")\n",
    "oxygen_distances25 = []\n",
    "for chunk in traj25:\n",
    "    oxygen_distances25.append(md.compute_distances(chunk, oxygen_pairs25))"
   ]
  },
  {
   "cell_type": "code",
   "execution_count": 17,
   "id": "8caa6680",
   "metadata": {},
   "outputs": [],
   "source": [
    "oxygen_pairs50 = traj50top.select_pairs(\"name O\", \"name O1\")\n",
    "oxygen_distances50 = []\n",
    "for chunk in traj50:\n",
    "    oxygen_distances50.append(md.compute_distances(chunk, oxygen_pairs50))"
   ]
  },
  {
   "cell_type": "code",
   "execution_count": 17,
   "id": "400031cf",
   "metadata": {},
   "outputs": [],
   "source": [
    "oxygen_pairs25 = traj25top.select_pairs(\"name O\", \"name O1\")\n",
    "oxygen_distances25 = []\n",
    "for chunk in traj25:\n",
    "    oxygen_distances25.append(md.compute_distances(chunk, oxygen_pairs25))"
   ]
  },
  {
   "cell_type": "code",
   "execution_count": 17,
   "id": "eb297595",
   "metadata": {},
   "outputs": [],
   "source": [
    "oxygen_pairs25 = traj25top.select_pairs(\"name O\", \"name O1\")\n",
    "oxygen_distances25 = []\n",
    "for chunk in traj25:\n",
    "    oxygen_distances25.append(md.compute_distances(chunk, oxygen_pairs25))"
   ]
  },
  {
   "cell_type": "code",
   "execution_count": null,
   "id": "8f89978f",
   "metadata": {},
   "outputs": [],
   "source": []
  }
 ],
 "metadata": {
  "kernelspec": {
   "display_name": "Python 3 (ipykernel)",
   "language": "python",
   "name": "python3"
  },
  "language_info": {
   "codemirror_mode": {
    "name": "ipython",
    "version": 3
   },
   "file_extension": ".py",
   "mimetype": "text/x-python",
   "name": "python",
   "nbconvert_exporter": "python",
   "pygments_lexer": "ipython3",
   "version": "3.7.12"
  }
 },
 "nbformat": 4,
 "nbformat_minor": 5
}
