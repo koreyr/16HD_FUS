{
 "cells": [
  {
   "cell_type": "code",
   "execution_count": 95,
   "id": "fb01c9fe",
   "metadata": {},
   "outputs": [],
   "source": [
    "import sys\n",
    "sys.path.append('/home/koreyr/scripts/')"
   ]
  },
  {
   "cell_type": "code",
   "execution_count": 96,
   "id": "491dfb32",
   "metadata": {},
   "outputs": [],
   "source": [
    "import numpy as np\n",
    "import matplotlib.pyplot as plt\n",
    "import MDAnalysis as mda \n",
    "import mdtraj as md\n",
    "import pandas as pd"
   ]
  },
  {
   "cell_type": "code",
   "execution_count": 97,
   "id": "34791c7e",
   "metadata": {},
   "outputs": [],
   "source": [
    "from traj_calc import *"
   ]
  },
  {
   "cell_type": "code",
   "execution_count": 86,
   "id": "7f9e207a",
   "metadata": {},
   "outputs": [],
   "source": [
    "def rsa(trj):\n",
    "    vol_ = [121.0,265.0,187.0,187.0,148.0,214.0,214.0,97.0,216.0,\n",
    "                    195.0,191.0,230.0,203.0,228.0,154.0,143.0,163.0,264.0,255.0]\n",
    "    res_ =  ['A','R','N','D','C','E','Q','G','H','I','L','K','M','F','P','S','T','W','Y','V']\n",
    "    rsa_dic_ = dict(zip(res_,vol_))\n",
    "    CAindex = trj.topology.select('name CA')\n",
    "    return np.array([rsa_dic_[trj.topology.atom(i).residue.code] for i in CAindex])"
   ]
  },
  {
   "cell_type": "code",
   "execution_count": 9,
   "id": "ef21521c",
   "metadata": {},
   "outputs": [],
   "source": [
    "u = mda.Universe('../../aFUS/prod.all.gro','../../aFUS/prod.trr')"
   ]
  },
  {
   "cell_type": "code",
   "execution_count": 10,
   "id": "79ece341",
   "metadata": {},
   "outputs": [
    {
     "data": {
      "text/plain": [
       "<Universe with 34403 atoms>"
      ]
     },
     "execution_count": 10,
     "metadata": {},
     "output_type": "execute_result"
    }
   ],
   "source": [
    "u"
   ]
  },
  {
   "cell_type": "code",
   "execution_count": 24,
   "id": "4aad84e1",
   "metadata": {},
   "outputs": [],
   "source": [
    "s_wat = u.select_atoms('name OW and resname SOL')"
   ]
  },
  {
   "cell_type": "code",
   "execution_count": 26,
   "id": "236ef88e",
   "metadata": {},
   "outputs": [
    {
     "ename": "AttributeError",
     "evalue": "module 'MDAnalysis' has no attribute 'analysis'",
     "output_type": "error",
     "traceback": [
      "\u001b[0;31m---------------------------------------------------------------------------\u001b[0m",
      "\u001b[0;31mAttributeError\u001b[0m                            Traceback (most recent call last)",
      "Input \u001b[0;32mIn [26]\u001b[0m, in \u001b[0;36m<cell line: 1>\u001b[0;34m()\u001b[0m\n\u001b[0;32m----> 1\u001b[0m rdf \u001b[38;5;241m=\u001b[39m \u001b[43mmda\u001b[49m\u001b[38;5;241;43m.\u001b[39;49m\u001b[43manalysis\u001b[49m\u001b[38;5;241m.\u001b[39mrdf\u001b[38;5;241m.\u001b[39mInterRDF(s_wat)\n",
      "\u001b[0;31mAttributeError\u001b[0m: module 'MDAnalysis' has no attribute 'analysis'"
     ]
    }
   ],
   "source": [
    "rdf = mda.analysis.rdf.InterRDF(s_wat)"
   ]
  },
  {
   "cell_type": "code",
   "execution_count": 80,
   "id": "96225a7e",
   "metadata": {},
   "outputs": [],
   "source": [
    "edits,bonds = md.load('../../aFUS/protein.ff.gro').topology.to_dataframe()\n",
    "for i,j in zip([\"NGLY\", \"CGLN\"],[\"GLY\",\"GLN\"]):\n",
    "    edits.loc[edits[\"resName\"] == i, \"resName\"] = j\n",
    "top = md.Topology.from_dataframe(edits, bonds)\n",
    "traj = md.load_xtc('../../aFUS/prod.xtc',top)"
   ]
  },
  {
   "cell_type": "code",
   "execution_count": 81,
   "id": "60df2a52",
   "metadata": {},
   "outputs": [
    {
     "data": {
      "text/plain": [
       "<mdtraj.Trajectory with 28407 frames, 624 atoms, 44 residues, and unitcells at 0x7f215ff72380>"
      ]
     },
     "execution_count": 81,
     "metadata": {},
     "output_type": "execute_result"
    }
   ],
   "source": [
    "traj"
   ]
  },
  {
   "cell_type": "code",
   "execution_count": 91,
   "id": "7636c038",
   "metadata": {},
   "outputs": [],
   "source": [
    "sasa_a = md.shrake_rupley(traj,mode='residue')"
   ]
  },
  {
   "cell_type": "code",
   "execution_count": 83,
   "id": "74da91ad",
   "metadata": {},
   "outputs": [],
   "source": [
    "sasa_total = sasa_a.sum(axis=1)"
   ]
  },
  {
   "cell_type": "code",
   "execution_count": 84,
   "id": "165047a6",
   "metadata": {},
   "outputs": [
    {
     "data": {
      "text/plain": [
       "['GMASNDYTQQATQSYGAYPTQPGQGYSQQSSQPYGQQSYSGYSQ']"
      ]
     },
     "execution_count": 84,
     "metadata": {},
     "output_type": "execute_result"
    }
   ],
   "source": [
    "traj.topology.to_fasta()"
   ]
  },
  {
   "cell_type": "code",
   "execution_count": null,
   "id": "95569648",
   "metadata": {},
   "outputs": [],
   "source": []
  },
  {
   "cell_type": "code",
   "execution_count": 87,
   "id": "e2b0f6c8",
   "metadata": {},
   "outputs": [
    {
     "data": {
      "text/plain": [
       "array([ 97., 203., 121., 143., 187., 187., 255., 163., 214., 214., 121.,\n",
       "       163., 214., 143., 255.,  97., 121., 255., 154., 163., 214., 154.,\n",
       "        97., 214.,  97., 255., 143., 214., 214., 143., 143., 214., 154.,\n",
       "       255.,  97., 214., 214., 143., 255., 143.,  97., 255., 143., 214.])"
      ]
     },
     "execution_count": 87,
     "metadata": {},
     "output_type": "execute_result"
    }
   ],
   "source": [
    "rsa(traj)"
   ]
  },
  {
   "cell_type": "code",
   "execution_count": 51,
   "id": "e8683687",
   "metadata": {},
   "outputs": [],
   "source": [
    "count = 0\n",
    "sasa_res = []\n",
    "for i in [len(list(traj.topology.residue(i).atoms)) for i in range(0,traj.n_residues)]:\n",
    "    sasa_res.append(sasa_a[:,count:count+i].sum(1))\n",
    "    count+=i\n",
    "sasa_res = np.stack(sasa_res,axis=1)\n"
   ]
  },
  {
   "cell_type": "code",
   "execution_count": 93,
   "id": "270cd4e8",
   "metadata": {},
   "outputs": [
    {
     "data": {
      "text/plain": [
       "array([[0.        , 1.3029892 , 0.5567284 , ..., 1.2267051 , 0.01897375,\n",
       "        0.33144885],\n",
       "       [0.32824498, 1.9347925 , 0.9906419 , ..., 0.8604887 , 0.79199976,\n",
       "        1.6150889 ],\n",
       "       [0.17476895, 1.9053276 , 0.5798737 , ..., 1.8185761 , 0.57112515,\n",
       "        0.10929611],\n",
       "       ...,\n",
       "       [1.2489336 , 1.2366097 , 0.38747823, ..., 1.6780525 , 0.720007  ,\n",
       "        2.6606364 ],\n",
       "       [1.4323264 , 1.9690346 , 0.7023541 , ..., 0.72832227, 0.37746626,\n",
       "        1.6884302 ],\n",
       "       [1.0673987 , 1.4967836 , 0.9845367 , ..., 1.1160011 , 1.2797939 ,\n",
       "        1.8354604 ]], dtype=float32)"
      ]
     },
     "execution_count": 93,
     "metadata": {},
     "output_type": "execute_result"
    }
   ],
   "source": [
    "sasa_res"
   ]
  },
  {
   "cell_type": "code",
   "execution_count": 94,
   "id": "92479413",
   "metadata": {},
   "outputs": [
    {
     "data": {
      "text/plain": [
       "array([[0.        , 1.3029892 , 0.55672836, ..., 1.226705  , 0.01897375,\n",
       "        0.33144885],\n",
       "       [0.328245  , 1.9347925 , 0.9906419 , ..., 0.8604887 , 0.79199976,\n",
       "        1.6150889 ],\n",
       "       [0.17476895, 1.9053276 , 0.5798736 , ..., 1.8185761 , 0.5711251 ,\n",
       "        0.10929611],\n",
       "       ...,\n",
       "       [1.2489338 , 1.2366097 , 0.38747823, ..., 1.6780525 , 0.720007  ,\n",
       "        2.6606364 ],\n",
       "       [1.4323264 , 1.9690346 , 0.7023541 , ..., 0.7283224 , 0.37746626,\n",
       "        1.6884301 ],\n",
       "       [1.0673987 , 1.4967836 , 0.98453677, ..., 1.1160011 , 1.2797939 ,\n",
       "        1.8354603 ]], dtype=float32)"
      ]
     },
     "execution_count": 94,
     "metadata": {},
     "output_type": "execute_result"
    }
   ],
   "source": [
    "sasa_a"
   ]
  },
  {
   "cell_type": "code",
   "execution_count": null,
   "id": "6fda9dba",
   "metadata": {},
   "outputs": [],
   "source": []
  }
 ],
 "metadata": {
  "kernelspec": {
   "display_name": "Python 3 (ipykernel)",
   "language": "python",
   "name": "python3"
  },
  "language_info": {
   "codemirror_mode": {
    "name": "ipython",
    "version": 3
   },
   "file_extension": ".py",
   "mimetype": "text/x-python",
   "name": "python",
   "nbconvert_exporter": "python",
   "pygments_lexer": "ipython3",
   "version": "3.10.6"
  }
 },
 "nbformat": 4,
 "nbformat_minor": 5
}
